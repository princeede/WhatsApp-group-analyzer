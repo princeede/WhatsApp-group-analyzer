{
 "cells": [
  {
   "cell_type": "markdown",
   "metadata": {},
   "source": [
    "Imports\n"
   ]
  },
  {
   "cell_type": "code",
   "execution_count": null,
   "metadata": {},
   "outputs": [],
   "source": [
    "import re\n",
    "import numpy as np\n",
    "import pandas as pd\n",
    "import matplotlib.pyplot as plt\n",
    "import matplotlib\n",
    "matplotlib.style.use('ggplot')"
   ]
  },
  {
   "cell_type": "code",
   "execution_count": 2,
   "metadata": {},
   "outputs": [],
   "source": [
    "def groupchat(filename):\n",
    "    with open(filename, encoding=\"utf-8\") as f:\n",
    "        return f.read()\n",
    "    "
   ]
  },
  {
   "cell_type": "code",
   "execution_count": 20,
   "metadata": {},
   "outputs": [],
   "source": [
    "chat = groupchat(\"groupchat.txt\")\n",
    "# print(chat)"
   ]
  },
  {
   "cell_type": "code",
   "execution_count": 135,
   "metadata": {},
   "outputs": [],
   "source": [
    "date_pattern = r'\\d+/\\d+/\\d+'\n",
    "# reg = re.compile(beg_pattern)\n",
    "all_dates = re.findall((date_pattern), chat)\n",
    "msg_dates = []\n",
    "non_msg_dates = []\n",
    "sender_msg = re.split((date_pattern), chat)\n",
    "sender = []\n",
    "msg = []\n",
    "time = []\n",
    "nonMatch = []\n",
    "count = 0\n",
    "for item in sender_msg:\n",
    "    matchObj = re.match(r', (.*) - (.*): (.*)', item, re.DOTALL)\n",
    "    if matchObj:\n",
    "#         print(count)\n",
    "        msg_dates.append(all_dates[count-1])\n",
    "        time.append(matchObj.group(1))\n",
    "        sender.append(matchObj.group(2))\n",
    "        msg.append(matchObj.group(3))\n",
    "    else:\n",
    "        non_msg_dates.append(all_dates[count])\n",
    "        nonMatch.append(item)\n",
    "    count = count + 1\n"
   ]
  },
  {
   "cell_type": "code",
   "execution_count": 138,
   "metadata": {},
   "outputs": [
    {
     "ename": "MemoryError",
     "evalue": "",
     "output_type": "error",
     "traceback": [
      "\u001b[1;31m---------------------------------------------------------------------------\u001b[0m",
      "\u001b[1;31mMemoryError\u001b[0m                               Traceback (most recent call last)",
      "\u001b[1;32m<ipython-input-138-1b605d162067>\u001b[0m in \u001b[0;36m<module>\u001b[1;34m\u001b[0m\n\u001b[1;32m----> 1\u001b[1;33m \u001b[0mnumpy_data\u001b[0m \u001b[1;33m=\u001b[0m \u001b[0mnp\u001b[0m\u001b[1;33m.\u001b[0m\u001b[0marray\u001b[0m\u001b[1;33m(\u001b[0m\u001b[1;33m[\u001b[0m\u001b[0mmsg_dates\u001b[0m\u001b[1;33m,\u001b[0m \u001b[0mtime\u001b[0m\u001b[1;33m,\u001b[0m \u001b[0msender\u001b[0m\u001b[1;33m,\u001b[0m \u001b[0mmsg\u001b[0m\u001b[1;33m]\u001b[0m\u001b[1;33m)\u001b[0m\u001b[1;33m\u001b[0m\u001b[1;33m\u001b[0m\u001b[0m\n\u001b[0m\u001b[0;32m      2\u001b[0m \u001b[0mnumpy_data\u001b[0m \u001b[1;33m=\u001b[0m \u001b[0mnumpy_data\u001b[0m\u001b[1;33m.\u001b[0m\u001b[0mtranspose\u001b[0m\u001b[1;33m(\u001b[0m\u001b[1;33m)\u001b[0m\u001b[1;33m\u001b[0m\u001b[1;33m\u001b[0m\u001b[0m\n",
      "\u001b[1;31mMemoryError\u001b[0m: "
     ]
    }
   ],
   "source": [
    "numpy_data = np.array([msg_dates, time, sender, msg])\n",
    "numpy_data = numpy_data.transpose()"
   ]
  },
  {
   "cell_type": "code",
   "execution_count": 139,
   "metadata": {},
   "outputs": [],
   "source": [
    "pd_data = pd.DataFrame(numpy_data, columns=[\"Date\", \"Time\", \"User\", \"Message\"])"
   ]
  },
  {
   "cell_type": "code",
   "execution_count": 140,
   "metadata": {},
   "outputs": [
    {
     "name": "stdout",
     "output_type": "stream",
     "text": [
      "            Date   Time                                               User  \\\n",
      "0     24/06/2018  18:03                                        Gladys Cyaa   \n",
      "1     24/06/2018  19:27                                   Tony Chukwu Cyaa   \n",
      "2     25/06/2018  06:47                                               figo   \n",
      "3     25/06/2018  06:49                                ‪+234 908 045 2416‬   \n",
      "4     25/06/2018  06:58                                        Gladys Cyaa   \n",
      "5     25/06/2018  06:58                                        Gladys Cyaa   \n",
      "6     25/06/2018  06:58                                        Gladys Cyaa   \n",
      "7     25/06/2018  06:58                                        Gladys Cyaa   \n",
      "8     25/06/2018  07:05                                        Gladys Cyaa   \n",
      "9     25/06/2018  07:12                                 Oliver Azegba Cyaa   \n",
      "10    25/06/2018  07:27                                               figo   \n",
      "11    25/06/2018  07:34                                         Ify Ikeogu   \n",
      "12    25/06/2018  08:20                                      Ada Ufochukwu   \n",
      "13    25/06/2018  09:39                                   Tony Chukwu Cyaa   \n",
      "14    25/06/2018  09:41                                   Tony Chukwu Cyaa   \n",
      "15    25/06/2018  11:30                                ‪+234 810 617 4821‬   \n",
      "16    25/06/2018  11:42                                               figo   \n",
      "17    25/06/2018  11:43                                ‪+234 810 617 4821‬   \n",
      "18    25/06/2018  11:44                                               figo   \n",
      "19    25/06/2018  11:45                                ‪+234 810 617 4821‬   \n",
      "20    25/06/2018  12:06  figo: UPDATES: Herdsmen attack 11 Plateau vill...   \n",
      "21    25/06/2018  14:10                                         Henry Osah   \n",
      "22    25/06/2018  14:10                                         Henry Osah   \n",
      "23    25/06/2018  14:10                                         Henry Osah   \n",
      "24    25/06/2018  14:10                                         Henry Osah   \n",
      "25    25/06/2018  20:46  Gladys Cyaa: *The Last Smile*\\n_EPISODE 20_\\n\\...   \n",
      "26    25/06/2018  21:19                                        Gladys Cyaa   \n",
      "27    25/06/2018  21:24                                        Gladys Cyaa   \n",
      "28    25/06/2018  22:13                                   Tony Chukwu Cyaa   \n",
      "29    26/06/2018  09:10                                         Lizzy Cyaa   \n",
      "...          ...    ...                                                ...   \n",
      "1970  18/08/2018  16:04                                   Tony Chukwu Cyaa   \n",
      "1971  18/08/2018  16:05                                   Tony Chukwu Cyaa   \n",
      "1972  18/08/2018  16:17                                        Lucian Cyaa   \n",
      "1973  18/08/2018  16:28                                ‪+234 708 110 1828‬   \n",
      "1974  18/08/2018  16:28                                ‪+234 708 110 1828‬   \n",
      "1975  18/08/2018  16:33                                        Lucian Cyaa   \n",
      "1976  18/08/2018  16:41                                 Oliver Azegba Cyaa   \n",
      "1977  18/08/2018  17:06                                        Otigba Cyaa   \n",
      "1978  18/08/2018  19:15                                ‪+234 705 773 5402‬   \n",
      "1979  18/08/2018  19:37                                         Nonso Cyaa   \n",
      "1980  18/08/2018  19:39                                         Nonso Cyaa   \n",
      "1981  18/08/2018  21:03                                   Tony Chukwu Cyaa   \n",
      "1982  18/08/2018  21:04                                   Tony Chukwu Cyaa   \n",
      "1983  18/08/2018  21:04                                   Tony Chukwu Cyaa   \n",
      "1984  18/08/2018  21:14                                ‪+234 708 110 1828‬   \n",
      "1985  18/08/2018  21:19                                   Tony Chukwu Cyaa   \n",
      "1986  18/08/2018  21:22                                ‪+234 708 110 1828‬   \n",
      "1987  18/08/2018  21:22                                   Tony Chukwu Cyaa   \n",
      "1988  18/08/2018  21:23                                ‪+234 708 110 1828‬   \n",
      "1989  18/08/2018  21:25                                   Tony Chukwu Cyaa   \n",
      "1990  18/08/2018  21:28                                ‪+234 708 110 1828‬   \n",
      "1991  18/08/2018  21:32                                   Tony Chukwu Cyaa   \n",
      "1992  19/08/2018  04:52                                          Perpetual   \n",
      "1993  19/08/2018  04:52                                          Perpetual   \n",
      "1994  19/08/2018  05:49                                ‪+234 708 110 1828‬   \n",
      "1995  19/08/2018  05:49                                ‪+234 708 110 1828‬   \n",
      "1996  19/08/2018  08:15                                   Tony Chukwu Cyaa   \n",
      "1997  19/08/2018  11:19                                   Tony Chukwu Cyaa   \n",
      "1998  19/08/2018  12:56                                         Carol Cyaa   \n",
      "1999  19/08/2018  12:57                                         Carol Cyaa   \n",
      "\n",
      "                                                Message  \n",
      "0     *The Last Smile*\\n_EPISODE 15_\\n\\nThe tour was...  \n",
      "1                                     <Media omitted>\\n  \n",
      "2     Light and darkness bless the Lord\\nBless the L...  \n",
      "3                                                Amen\\n  \n",
      "4     *The Last Smile*\\n_EPISODE 16_\\n\\nRaymond woke...  \n",
      "5     *The Last Smile*\\n_EPISODE 17_\\n\\nEvening came...  \n",
      "6     *The Last Smile*\\n_EPISODE 18_\\n\\nLucy woke up...  \n",
      "7     *The Last Smile*\\n_EPISODE 19_\\n\\n“Why did you...  \n",
      "8                                    Good morning all\\n  \n",
      "9                       Good morning wisdom children.\\n  \n",
      "10    I want to sincerely thank all those that parti...  \n",
      "11                                               Amen\\n  \n",
      "12                                               Amen\\n  \n",
      "13                                   Good morning all\\n  \n",
      "14                                                  👍\\n  \n",
      "15    Please, inform anyone traveling to Cross River...  \n",
      "16                                      Since when??🙄\\n  \n",
      "17             The information got to me this morning\\n  \n",
      "18                                           Very old\\n  \n",
      "19    Am in Lagos as they tell me na so I dey tell y...  \n",
      "20    A-Ibom women to buy nomination form for Gov Em...  \n",
      "21    Thanks Patricia Anigbata for your N2500 donati...  \n",
      "22    Thanks Anonymous for your N5000 donation towar...  \n",
      "23    Thanks Anonymous for your N100000 donation tow...  \n",
      "24    *Sponsor! Sponsor!! Sponsor!!!*\\n\\nWe the Educ...  \n",
      "25    redefine your life”\\n“Oh, I see. And where did...  \n",
      "26    I greet you all in the name of our lord Jesus ...  \n",
      "27    🗣🗣🗣🗣🗣🗣🗣🗣🗣This week task will be handled by @23...  \n",
      "28                                         👏👏👏 Weldon\\n  \n",
      "29                                          Well done\\n  \n",
      "...                                                 ...  \n",
      "1970  Ghost walkers everywhere\\n\\n\\nRosemary\\n\\nPres...  \n",
      "1971            People wey dey read my msg and passed\\n  \n",
      "1972  I am here oooh... I have taken permission... I...  \n",
      "1973                                Am here oooo my 😍\\n  \n",
      "1974                           Good evening my people\\n  \n",
      "1975                               Good Evening House\\n  \n",
      "1976                                        Am here o\\n  \n",
      "1977                                        I am here\\n  \n",
      "1978  Hello there @2348159872014 I am here,but u nee...  \n",
      "1979                                  <Media omitted>\\n  \n",
      "1980  Kindly feel free to place your advert in the f...  \n",
      "1981                                              🤣🤣🤣\\n  \n",
      "1982                                 Una good evening\\n  \n",
      "1983  Sorry guys, am feeling sick, Arsenal lost to s...  \n",
      "1984                                              😂 😂\\n  \n",
      "1985                                               😢😢\\n  \n",
      "1986                                       Oh 🤐 sorry\\n  \n",
      "1987                            Thank you *Nkemdirim*\\n  \n",
      "1988                                              Uwc\\n  \n",
      "1989                         This message was deleted\\n  \n",
      "1990                                What are deleting\\n  \n",
      "1991  Is it only one person that will be having Indu...  \n",
      "1992  *YIPPIE OGA EMMANUEL EZIOHURU WEDDING IS HEREE...  \n",
      "1993  WE ARE GETTING TEN(10) PIECES OF THE ANKARA, A...  \n",
      "1994                                 Good morning all\\n  \n",
      "1995                                     Happy Sunday\\n  \n",
      "1996                                 Good morning all\\n  \n",
      "1997  *Names of members for qualified for industion ...  \n",
      "1998                                  <Media omitted>\\n  \n",
      "1999                                  <Media omitted>\\n  \n",
      "\n",
      "[2000 rows x 4 columns]\n"
     ]
    }
   ],
   "source": [
    "print(pd_data)"
   ]
  },
  {
   "cell_type": "code",
   "execution_count": 13,
   "metadata": {},
   "outputs": [],
   "source": []
  },
  {
   "cell_type": "code",
   "execution_count": null,
   "metadata": {},
   "outputs": [],
   "source": []
  },
  {
   "cell_type": "code",
   "execution_count": null,
   "metadata": {},
   "outputs": [],
   "source": []
  }
 ],
 "metadata": {
  "kernelspec": {
   "display_name": "Python 3",
   "language": "python",
   "name": "python3"
  },
  "language_info": {
   "codemirror_mode": {
    "name": "ipython",
    "version": 3
   },
   "file_extension": ".py",
   "mimetype": "text/x-python",
   "name": "python",
   "nbconvert_exporter": "python",
   "pygments_lexer": "ipython3",
   "version": "3.7.1"
  }
 },
 "nbformat": 4,
 "nbformat_minor": 2
}
