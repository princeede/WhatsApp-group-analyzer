{
 "cells": [
  {
   "cell_type": "markdown",
   "metadata": {},
   "source": [
    "# Imports\n",
    "Imports all relevenat libraries to be used in this project."
   ]
  },
  {
   "cell_type": "code",
   "execution_count": 28,
   "metadata": {},
   "outputs": [],
   "source": [
    "import re\n",
    "import numpy as np\n",
    "import pandas as pd\n",
    "import matplotlib.pyplot as plt\n",
    "import matplotlib\n",
    "from wordcloud import WordCloud\n",
    "\n",
    "matplotlib.style.use('ggplot')"
   ]
  },
  {
   "cell_type": "markdown",
   "metadata": {},
   "source": [
    "# Load the text\n",
    "Load the groupchat text "
   ]
  },
  {
   "cell_type": "code",
   "execution_count": 5,
   "metadata": {},
   "outputs": [],
   "source": [
    "def groupchat(filename):\n",
    "    with open(filename, encoding=\"utf-8\") as f:\n",
    "        return f.read()\n",
    "    "
   ]
  },
  {
   "cell_type": "code",
   "execution_count": 51,
   "metadata": {},
   "outputs": [],
   "source": [
    "#store the text in chat...\n",
    "chat = groupchat(\"my-whatsapp-text\")\n"
   ]
  },
  {
   "cell_type": "markdown",
   "metadata": {},
   "source": [
    "# Data cleaning...\n",
    "\n",
    "Separate the texts into Date, Time, Sender/User and Message using regular expresions and pattern matching...\n",
    "Note, some of the texts will be about actions like when new users are been added, or user left the group, or someone changes the name of the group."
   ]
  },
  {
   "cell_type": "code",
   "execution_count": 52,
   "metadata": {},
   "outputs": [],
   "source": [
    "date_pattern = r'\\d+/\\d+/\\d+' #the date pattern\n",
    "all_dates = re.findall((date_pattern), chat) #filter out all he dates\n",
    "msg_dates = [] #to store the dates for messages messages alone\n",
    "non_msg_dates = []  #to store the dates for actions\n",
    "sender_msg = re.split((date_pattern), chat) #remove the date from the chats, left with only users and messages\n",
    "sender = [] #to store users\n",
    "msg = [] # to store messages alone\n",
    "time = [] # to store time message was sent\n",
    "nonMatch = [] # to store actions...\n",
    "count = 0\n",
    "for item in sender_msg:\n",
    "    matchObj = re.match(r', (.*) - (.*): (.*)', item, re.DOTALL)\n",
    "    if matchObj:\n",
    "        msg_dates.append(all_dates[count-1])\n",
    "        time.append(matchObj.group(1))\n",
    "        sender.append(matchObj.group(2))\n",
    "        msg.append(matchObj.group(3))\n",
    "    else:\n",
    "        non_msg_dates.append(all_dates[count])\n",
    "        nonMatch.append(item)\n",
    "    count = count + 1\n"
   ]
  },
  {
   "cell_type": "markdown",
   "metadata": {},
   "source": [
    "# Data preparation...\n",
    "\n",
    "Store the data in numpy and pandas datatype for analysis"
   ]
  },
  {
   "cell_type": "code",
   "execution_count": 53,
   "metadata": {},
   "outputs": [],
   "source": [
    "numpy_data = np.array([msg_dates, time, sender, msg])\n",
    "numpy_data = numpy_data.transpose()\n",
    "pd_data = pd.DataFrame(numpy_data, columns=[\"Date\", \"Time\", \"User\", \"Message\"])"
   ]
  },
  {
   "cell_type": "markdown",
   "metadata": {},
   "source": [
    "# Data analysis...\n",
    "\n",
    "count the most active user, dates and plot wordcloud"
   ]
  },
  {
   "cell_type": "code",
   "execution_count": 54,
   "metadata": {},
   "outputs": [],
   "source": [
    "most_active_user = pd_data.User.value_counts()\n",
    "most_active_date = pd_data.Date.value_counts()"
   ]
  },
  {
   "cell_type": "code",
   "execution_count": 55,
   "metadata": {},
   "outputs": [],
   "source": [
    "def plot_wordcloud(msg):\n",
    "    wordcloud = WordCloud(max_font_size=50, max_words=100, background_color=\"white\").generate(\", \".join(msg))\n",
    "    plt.imshow(wordcloud, interpolation='bilinear')\n",
    "    plt.axis(\"off\")\n",
    "    plt.show()\n",
    "    \n",
    "    img_path = \"./wordcloud.png\"\n",
    "    wordcloud.to_file(img_path)"
   ]
  },
  {
   "cell_type": "code",
   "execution_count": 57,
   "metadata": {},
   "outputs": [],
   "source": [
    "most_active_user[:20].plot(kind='barh')\n",
    "plt.show()\n",
    "most_active_date[:10].plot(kind='bar')\n",
    "plt.show()\n",
    "plot_wordcloud(msg)"
   ]
  },
  {
   "cell_type": "code",
   "execution_count": null,
   "metadata": {},
   "outputs": [],
   "source": []
  }
 ],
 "metadata": {
  "kernelspec": {
   "display_name": "Python 3",
   "language": "python",
   "name": "python3"
  },
  "language_info": {
   "codemirror_mode": {
    "name": "ipython",
    "version": 3
   },
   "file_extension": ".py",
   "mimetype": "text/x-python",
   "name": "python",
   "nbconvert_exporter": "python",
   "pygments_lexer": "ipython3",
   "version": "3.7.0"
  }
 },
 "nbformat": 4,
 "nbformat_minor": 2
}
