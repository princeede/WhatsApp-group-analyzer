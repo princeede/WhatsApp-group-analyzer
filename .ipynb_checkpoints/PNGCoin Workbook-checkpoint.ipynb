{
 "cells": [
  {
   "cell_type": "markdown",
   "metadata": {},
   "source": [
    "[Here are the slides](https://docs.google.com/presentation/d/11uyJMpCyVceYlC50QUdVp3DJe42BLxW4CHykxIdR7AU/edit?usp=sharing)\n"
   ]
  },
  {
   "cell_type": "markdown",
   "metadata": {},
   "source": [
    "# Opening Images in Python\n",
    "\n",
    "How to use the Pillow library"
   ]
  },
  {
   "cell_type": "code",
   "execution_count": 1,
   "metadata": {},
   "outputs": [],
   "source": [
    "from PIL import Image\n",
    "\n",
    "img = Image.open(\"alice.png\")\n",
    "img.show()"
   ]
  },
  {
   "cell_type": "markdown",
   "metadata": {},
   "source": [
    "# Asking User to Verify a PNG Signature \n",
    "\n",
    "Requesting user input. Does the supplied signature photo make sense?"
   ]
  },
  {
   "cell_type": "code",
   "execution_count": 2,
   "metadata": {},
   "outputs": [],
   "source": [
    "def validate():\n",
    "    user_input = input(\"Is this a valid signature? (y/n)\")\n",
    "    if user_input.lower() == 'y':\n",
    "        print(\"This is valid\")\n",
    "    elif user_input.lower() == \"n\":\n",
    "        print(\"This is not valid\")\n",
    "    else:\n",
    "        validate()\n",
    "\n",
    "def display_and_validate(filename):\n",
    "    img = Image.open(filename)\n",
    "    img.show()\n",
    "    validate()\n",
    "    \n",
    "    "
   ]
  },
  {
   "cell_type": "code",
   "execution_count": 3,
   "metadata": {},
   "outputs": [
    {
     "name": "stdout",
     "output_type": "stream",
     "text": [
      "Is this a valid signature? (y/n)y\n",
      "This is valid\n"
     ]
    }
   ],
   "source": [
    "display_and_validate(\"alice.png\")"
   ]
  },
  {
   "cell_type": "markdown",
   "metadata": {},
   "source": [
    "# Defining the Coin\n",
    "\n",
    "Stupid-simple Python class"
   ]
  },
  {
   "cell_type": "code",
   "execution_count": 4,
   "metadata": {},
   "outputs": [],
   "source": [
    "class PNGCoin:\n",
    "    def __init__(self, transfers):\n",
    "        self.transfers = transfers"
   ]
  },
  {
   "cell_type": "markdown",
   "metadata": {},
   "source": [
    "# Validating a Coin\n",
    "\n",
    "Here we check every entry in PNGCoin.transfers"
   ]
  },
  {
   "cell_type": "code",
   "execution_count": 5,
   "metadata": {},
   "outputs": [],
   "source": [
    "coin = PNGCoin([\n",
    "    Image.open(\"alice.png\"),\n",
    "    Image.open(\"alice-to-bob.png\"),\n",
    "])\n",
    "\n",
    "bad_coin = PNGCoin([\n",
    "    Image.open(\"alice-to-bob.png\"),\n",
    "    Image.open(\"alice-to-bob-forged.png\")\n",
    "])"
   ]
  },
  {
   "cell_type": "code",
   "execution_count": 7,
   "metadata": {},
   "outputs": [],
   "source": [
    "def handle_user_input(user_input):\n",
    "    if user_input.lower() == \"n\":\n",
    "        return False\n",
    "    elif user_input.lower() == \"y\":\n",
    "        return True\n",
    "    else:\n",
    "        user_input = input(\"is this a valid signature? (y/n)\")\n",
    "        handle_user_input(user_input)\n",
    "        \n",
    "\n",
    "def validate(coin):\n",
    "    for transfer in coin.transfers:\n",
    "        transfer.show()\n",
    "        user_input = input(\"is this a valid signature? (y/n)\")\n",
    "        is_valid = handle_user_input(user_input)\n",
    "        if not is_valid:\n",
    "            return False\n",
    "    return True"
   ]
  },
  {
   "cell_type": "code",
   "execution_count": 9,
   "metadata": {},
   "outputs": [
    {
     "name": "stdout",
     "output_type": "stream",
     "text": [
      "is this a valid signature? (y/n)y\n",
      "is this a valid signature? (y/n)y\n"
     ]
    },
    {
     "data": {
      "text/plain": [
       "True"
      ]
     },
     "execution_count": 9,
     "metadata": {},
     "output_type": "execute_result"
    }
   ],
   "source": [
    "validate(coin)"
   ]
  },
  {
   "cell_type": "markdown",
   "metadata": {},
   "source": [
    "# Serializing Coins \n",
    "\n",
    "Let's take the coin defined ^^ and write it to disk"
   ]
  },
  {
   "cell_type": "code",
   "execution_count": 25,
   "metadata": {
    "scrolled": true
   },
   "outputs": [],
   "source": [
    "import pickle\n",
    "\n",
    "def serialize(coin):\n",
    "    return pickle.dumps(coin)\n",
    "\n",
    "def to_disk(coin, filename):\n",
    "    with open(filename, \"wb\") as f:\n",
    "        f.write(serialize(coin))\n",
    "        "
   ]
  },
  {
   "cell_type": "code",
   "execution_count": 34,
   "metadata": {},
   "outputs": [],
   "source": [
    "to_disk(coin, \"bob.pngcoin\")"
   ]
  },
  {
   "cell_type": "markdown",
   "metadata": {},
   "source": [
    "# Deserializing Coins\n",
    "\n",
    "Let's take the `coin.pngcoin` file we created ^^ and read it back into Python"
   ]
  },
  {
   "cell_type": "code",
   "execution_count": 31,
   "metadata": {},
   "outputs": [],
   "source": [
    "def deserialized(serialized):\n",
    "    return pickle.loads(serialized)\n",
    "\n",
    "def from_disk(filename):\n",
    "    with open(filename, \"rb\") as f:\n",
    "        serialized = f.read()\n",
    "        return deserialized(serialized)"
   ]
  },
  {
   "cell_type": "code",
   "execution_count": 41,
   "metadata": {},
   "outputs": [
    {
     "data": {
      "text/plain": [
       "True"
      ]
     },
     "execution_count": 41,
     "metadata": {},
     "output_type": "execute_result"
    }
   ],
   "source": [
    "coin2 = from_disk(\"bob.pngcoin\")\n",
    "\n",
    "coin2.transfers == coin.transfers"
   ]
  },
  {
   "cell_type": "markdown",
   "metadata": {},
   "source": [
    "# Using the Final Library\n",
    "\n",
    "I also wrote a [pngcoin.py](pngcoin.py) library that uses a more object-oriented design. Let's explore how it works:"
   ]
  },
  {
   "cell_type": "code",
   "execution_count": null,
   "metadata": {},
   "outputs": [],
   "source": []
  }
 ],
 "metadata": {
  "kernelspec": {
   "display_name": "Python 3",
   "language": "python",
   "name": "python3"
  },
  "language_info": {
   "codemirror_mode": {
    "name": "ipython",
    "version": 3
   },
   "file_extension": ".py",
   "mimetype": "text/x-python",
   "name": "python",
   "nbconvert_exporter": "python",
   "pygments_lexer": "ipython3",
   "version": "3.7.1"
  }
 },
 "nbformat": 4,
 "nbformat_minor": 2
}
